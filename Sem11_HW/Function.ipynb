{
 "cells": [
  {
   "cell_type": "code",
   "execution_count": 42,
   "id": "ac4c3b3a",
   "metadata": {},
   "outputs": [],
   "source": [
    "from sympy import *\n",
    "from sympy.plotting import plot\n",
    "from random import uniform\n"
   ]
  },
  {
   "cell_type": "markdown",
   "id": "186364fb",
   "metadata": {},
   "source": [
    "# Иследование функции"
   ]
  },
  {
   "cell_type": "code",
   "execution_count": 43,
   "id": "2515bb94",
   "metadata": {},
   "outputs": [
    {
     "data": {
      "text/latex": [
       "$\\displaystyle \\frac{x^{2} + 3}{3 x + 3}$"
      ],
      "text/plain": [
       "(x**2 + 3)/(3*x + 3)"
      ]
     },
     "execution_count": 43,
     "metadata": {},
     "output_type": "execute_result"
    }
   ],
   "source": [
    "x = symbols('x', real=True)\n",
    "# function_1\n",
    "#f =-18 * x ** 3 + 5 * x ** 2 + 10 * x - 30\n",
    "# function_2\n",
    "#f =2 * x ** 3 + 2 * x ** 2 - 18 * x - 18\n",
    "# function_3\n",
    "f =(x ** 2 + 3) / (3 * (x + 1))\n",
    "f"
   ]
  },
  {
   "cell_type": "markdown",
   "id": "34785ebc",
   "metadata": {},
   "source": [
    "## Определить корни"
   ]
  },
  {
   "cell_type": "code",
   "execution_count": 44,
   "id": "e3b92e1a",
   "metadata": {},
   "outputs": [
    {
     "data": {
      "text/latex": [
       "$\\displaystyle \\emptyset$"
      ],
      "text/plain": [
       "EmptySet"
      ]
     },
     "execution_count": 44,
     "metadata": {},
     "output_type": "execute_result"
    }
   ],
   "source": [
    "a = solveset(f, x, Reals)\n",
    "a.evalf(2)"
   ]
  },
  {
   "cell_type": "markdown",
   "id": "8a001fec",
   "metadata": {},
   "source": [
    "## Интервалы возврастания и убывания функции:"
   ]
  },
  {
   "cell_type": "code",
   "execution_count": 45,
   "id": "3773c068",
   "metadata": {},
   "outputs": [
    {
     "name": "stdout",
     "output_type": "stream",
     "text": [
      "Интервалы убывания функции: \n",
      "[-3.0, 1.0]\n",
      "Интервалы возврастания функции: \n",
      "[-oo, -3.0]\n",
      "[1.0, oo]\n"
     ]
    }
   ],
   "source": [
    "f_diff = [-oo, oo]\n",
    "f_diff[1:1] = solveset(diff(f), x, Reals).evalf(2)\n",
    "\n",
    "\n",
    "incr_list = []\n",
    "decr_list = []\n",
    "\n",
    "for i in range(1, len(f_diff)):\n",
    "    val = is_increasing(f, Interval.open(f_diff[i - 1], f_diff[i]))\n",
    "    if val:\n",
    "        incr_list.append(f\"[{f_diff[i - 1]}, {f_diff[i]}]\")\n",
    "    else:\n",
    "        decr_list.append(f\"[{f_diff[i - 1]}, {f_diff[i]}]\")\n",
    "        \n",
    "print(f\"Интервалы убывания функции: \", *decr_list, sep=\"\\n\")\n",
    "print(f\"Интервалы возврастания функции: \", *incr_list, sep=\"\\n\")"
   ]
  },
  {
   "cell_type": "markdown",
   "id": "22ce74de",
   "metadata": {},
   "source": [
    "## График функции:"
   ]
  },
  {
   "cell_type": "code",
   "execution_count": 46,
   "id": "cbf90c50",
   "metadata": {},
   "outputs": [
    {
     "data": {
      "image/png": "[encoded data removed]",
      "text/plain": [
       "<Figure size 640x480 with 1 Axes>"
      ]
     },
     "metadata": {},
     "output_type": "display_data"
    }
   ],
   "source": [
    "#functiont_1\n",
    "#plot(f, (x, -1, 1), legend=True)\n",
    "\n",
    "#functiont_2\n",
    "#plot(f, (x, -4, 4), legend=True)\n",
    "\n",
    "#functiont_3\n",
    "f_1 = plot(f, (x, -5, -1.1), show=False)\n",
    "f_2 = plot(f, (x, -0.9, 5), show=False)\n",
    "f_1.append(f_2[0])\n",
    "f_1.show()\n"
   ]
  },
  {
   "cell_type": "markdown",
   "id": "93e47567",
   "metadata": {},
   "source": [
    "## Вершины функции"
   ]
  },
  {
   "cell_type": "code",
   "execution_count": 47,
   "id": "065074ef",
   "metadata": {},
   "outputs": [
    {
     "name": "stdout",
     "output_type": "stream",
     "text": [
      "Точка максимума: -3.0, -2.0\n",
      "Точка минимума: 1.0, 0.67\n"
     ]
    }
   ],
   "source": [
    "f_diff = sorted(solveset(diff(f), x, Reals).evalf(2))\n",
    "f_diff.insert(0, f_diff[0] - 1)\n",
    "f_1 = diff(f)\n",
    "\n",
    "ext_list = []\n",
    "\n",
    "for i, val in enumerate(f_diff):\n",
    "    ext_list.append(f_1.subs(x, uniform(val, f_diff[i] + 1)))\n",
    "    if i != 0:\n",
    "        if ext_list[i - 1] < 0 < ext_list[i]:\n",
    "            print(f\"Точка минимума: {val}, {f.subs(x, val).evalf(2)}\")\n",
    "        elif ext_list[i - 1] > 0 > ext_list[i]:\n",
    "            print(f\"Точка максимума: {val}, {f.subs(x, val).evalf(2)}\")"
   ]
  },
  {
   "cell_type": "markdown",
   "id": "229605fb",
   "metadata": {},
   "source": [
    "## Промежуток f>0"
   ]
  },
  {
   "cell_type": "code",
   "execution_count": 48,
   "id": "29509c82",
   "metadata": {},
   "outputs": [
    {
     "name": "stdout",
     "output_type": "stream",
     "text": [
      "f > 0:"
     ]
    },
    {
     "data": {
      "text/latex": [
       "$\\displaystyle \\left(-1.0, \\infty\\right)$"
      ],
      "text/plain": [
       "Interval.open(-1.0, oo)"
      ]
     },
     "execution_count": 48,
     "metadata": {},
     "output_type": "execute_result"
    }
   ],
   "source": [
    "print(\"f > 0:\", end=\"\")\n",
    "solveset(f>0, x, Reals).evalf(2)\n",
    "\n"
   ]
  },
  {
   "cell_type": "markdown",
   "id": "833e7a30",
   "metadata": {},
   "source": [
    "## Промежуток f<0"
   ]
  },
  {
   "cell_type": "code",
   "execution_count": 49,
   "id": "8bdc04c9",
   "metadata": {},
   "outputs": [
    {
     "name": "stdout",
     "output_type": "stream",
     "text": [
      "f < 0:"
     ]
    },
    {
     "data": {
      "text/latex": [
       "$\\displaystyle \\left(-\\infty, -1.0\\right)$"
      ],
      "text/plain": [
       "Interval.open(-oo, -1.0)"
      ]
     },
     "execution_count": 49,
     "metadata": {},
     "output_type": "execute_result"
    }
   ],
   "source": [
    "print(\"f < 0:\", end=\"\")\n",
    "solveset(f<0, x, Reals).evalf(2)"
   ]
  },
  {
   "cell_type": "code",
   "execution_count": null,
   "id": "777fe55d",
   "metadata": {},
   "outputs": [],
   "source": []
  }
 ],
 "metadata": {
  "kernelspec": {
   "display_name": "Python 3 (ipykernel)",
   "language": "python",
   "name": "python3"
  },
  "language_info": {
   "codemirror_mode": {
    "name": "ipython",
    "version": 3
   },
   "file_extension": ".py",
   "mimetype": "text/x-python",
   "name": "python",
   "nbconvert_exporter": "python",
   "pygments_lexer": "ipython3",
   "version": "3.9.13"
  }
 },
 "nbformat": 4,
 "nbformat_minor": 5
}
